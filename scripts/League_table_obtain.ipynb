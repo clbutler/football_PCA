{
 "cells": [
  {
   "cell_type": "code",
   "execution_count": 21,
   "id": "c59ce1b3-b019-4283-863f-d03396f0f4a6",
   "metadata": {},
   "outputs": [],
   "source": [
    "import pandas as pd"
   ]
  },
  {
   "cell_type": "code",
   "execution_count": 22,
   "id": "eb5c2679-b654-4140-9986-8d85a0b99903",
   "metadata": {},
   "outputs": [],
   "source": [
    "#load tables"
   ]
  },
  {
   "cell_type": "code",
   "execution_count": 23,
   "id": "fdb002a1-902d-4809-914a-98c5a3c8045f",
   "metadata": {},
   "outputs": [],
   "source": [
    "prem = pd.read_html('https://www.skysports.com/premier-league-table')"
   ]
  },
  {
   "cell_type": "code",
   "execution_count": 29,
   "id": "39875e4c-65a1-442f-aae6-161f4a7599f2",
   "metadata": {},
   "outputs": [],
   "source": [
    "table_prem = prem[0]\n"
   ]
  },
  {
   "cell_type": "code",
   "execution_count": 32,
   "id": "789d8d15-92de-45e2-a69c-e460d8f2ef86",
   "metadata": {},
   "outputs": [],
   "source": [
    "table_prem.to_csv('prem.csv')"
   ]
  },
  {
   "cell_type": "code",
   "execution_count": 25,
   "id": "4c8cc3d7-a49e-47db-9ac9-42ef2299de0a",
   "metadata": {},
   "outputs": [],
   "source": [
    "national_league = pd.read_html('https://www.skysports.com/national-league-table')"
   ]
  },
  {
   "cell_type": "code",
   "execution_count": 33,
   "id": "47c38962-caa4-473a-90d5-5527d0ff5644",
   "metadata": {},
   "outputs": [],
   "source": [
    "table_national_league = national_league[0]"
   ]
  },
  {
   "cell_type": "code",
   "execution_count": 35,
   "id": "826e0370-73ec-4ba9-aee8-69cb50100095",
   "metadata": {},
   "outputs": [],
   "source": [
    "table_national_league.to_csv('national_league.csv')"
   ]
  }
 ],
 "metadata": {
  "kernelspec": {
   "display_name": "Python 3 (ipykernel)",
   "language": "python",
   "name": "python3"
  },
  "language_info": {
   "codemirror_mode": {
    "name": "ipython",
    "version": 3
   },
   "file_extension": ".py",
   "mimetype": "text/x-python",
   "name": "python",
   "nbconvert_exporter": "python",
   "pygments_lexer": "ipython3",
   "version": "3.11.5"
  }
 },
 "nbformat": 4,
 "nbformat_minor": 5
}
